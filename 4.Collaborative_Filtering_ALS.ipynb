{
 "cells": [
  {
   "cell_type": "code",
   "execution_count": null,
   "metadata": {
    "id": "fUH0flWWRuCI"
   },
   "outputs": [],
   "source": [
    "import findspark\n",
    "findspark.init()"
   ]
  },
  {
   "cell_type": "code",
   "execution_count": null,
   "metadata": {
    "id": "sJJk60L2R3i-"
   },
   "outputs": [],
   "source": [
    "from pyspark.sql import SparkSession\n",
    "from pyspark import SparkContext\n",
    "from pyspark.sql import SQLContext\n",
    "from pyspark.ml.evaluation import RegressionEvaluator\n",
    "from pyspark.ml.recommendation import ALS\n",
    "from pyspark.sql.functions import col, explode"
   ]
  },
  {
   "cell_type": "code",
   "execution_count": null,
   "metadata": {
    "id": "CL4YLpFLR6SX"
   },
   "outputs": [],
   "source": [
    "SparkContext.setSystemProperty('spark.executor.memory','12g')\n",
    "sc = SparkContext(master='local', appName='Recommendation')"
   ]
  },
  {
   "cell_type": "code",
   "execution_count": null,
   "metadata": {
    "id": "L43gHXi-R76G"
   },
   "outputs": [],
   "source": [
    "spark = SparkSession(sc)"
   ]
  },
  {
   "cell_type": "code",
   "execution_count": null,
   "metadata": {
    "id": "DbKiU7RfR_V2"
   },
   "outputs": [],
   "source": [
    "# data1 = spark.read.csv('Cung cap HV/Product_new.csv',header=True,inferSchema=True)\n",
    "data = spark.read.csv('Cung cap HV/Review_new.csv',header=True,inferSchema=True)"
   ]
  },
  {
   "cell_type": "code",
   "execution_count": null,
   "metadata": {
    "colab": {
     "base_uri": "https://localhost:8080/"
    },
    "id": "e9AxO6eVSA53",
    "outputId": "80e46c0e-c7b0-4519-aecb-5d91abb5ba10"
   },
   "outputs": [],
   "source": [
    "data.show(5, truncate=True)"
   ]
  },
  {
   "cell_type": "code",
   "execution_count": null,
   "metadata": {},
   "outputs": [],
   "source": [
    "data_sub = data.select(['product_id','rating','customer_id'])"
   ]
  },
  {
   "cell_type": "code",
   "execution_count": null,
   "metadata": {},
   "outputs": [],
   "source": [
    "data.count()"
   ]
  },
  {
   "cell_type": "code",
   "execution_count": null,
   "metadata": {},
   "outputs": [],
   "source": [
    "data_sub.printSchema()"
   ]
  },
  {
   "cell_type": "code",
   "execution_count": null,
   "metadata": {},
   "outputs": [],
   "source": [
    "from pyspark.sql.types import DoubleType, IntegerType\n",
    "from pyspark.sql.functions import isnan, when, count, col, udf"
   ]
  },
  {
   "cell_type": "code",
   "execution_count": null,
   "metadata": {},
   "outputs": [],
   "source": [
    "data_sub = data_sub.withColumn('rating', data_sub[\"rating\"].cast(DoubleType()))\n",
    "data_sub = data_sub.withColumn('customer_id', data_sub[\"customer_id\"].cast(IntegerType()))\n",
    "data_sub = data_sub.withColumn('product_id', data_sub[\"product_id\"].cast(IntegerType()))"
   ]
  },
  {
   "cell_type": "code",
   "execution_count": null,
   "metadata": {},
   "outputs": [],
   "source": [
    "data_sub.select([count(when(col(c).isNull(), c)).alias(c) for c in \n",
    "           data_sub.columns]).toPandas().T"
   ]
  },
  {
   "cell_type": "code",
   "execution_count": null,
   "metadata": {},
   "outputs": [],
   "source": [
    "data_sub = data_sub.na.drop(how='any')"
   ]
  },
  {
   "cell_type": "code",
   "execution_count": null,
   "metadata": {},
   "outputs": [],
   "source": [
    "data_sub.count()"
   ]
  },
  {
   "cell_type": "code",
   "execution_count": null,
   "metadata": {},
   "outputs": [],
   "source": [
    "data_sub.select([count(when(col(c).isNull(), c)).alias(c) for c in \n",
    "           data_sub.columns]).toPandas().T"
   ]
  },
  {
   "cell_type": "code",
   "execution_count": null,
   "metadata": {},
   "outputs": [],
   "source": [
    "# Distinct users and products\n",
    "users = data_sub.select(\"customer_id\").distinct().count()\n",
    "products = data_sub.select(\"product_id\").distinct().count()\n",
    "numerator = data_sub.count()"
   ]
  },
  {
   "cell_type": "code",
   "execution_count": null,
   "metadata": {},
   "outputs": [],
   "source": [
    "display(numerator, users, products)"
   ]
  },
  {
   "cell_type": "code",
   "execution_count": null,
   "metadata": {},
   "outputs": [],
   "source": [
    "# Number of rating matrix could contain if no empty cells\n",
    "denominator = users * products\n",
    "denominator"
   ]
  },
  {
   "cell_type": "code",
   "execution_count": null,
   "metadata": {},
   "outputs": [],
   "source": [
    "sparsity = 1- (numerator * 1.0/ denominator)\n",
    "print(\"sparsity:\"), sparsity"
   ]
  },
  {
   "cell_type": "markdown",
   "metadata": {},
   "source": [
    "### Feature Transformation"
   ]
  },
  {
   "cell_type": "code",
   "execution_count": null,
   "metadata": {},
   "outputs": [],
   "source": [
    "from pyspark.ml.feature import StringIndexer\n",
    "from pyspark.ml import Pipeline\n",
    "from pyspark.sql.functions import col"
   ]
  },
  {
   "cell_type": "code",
   "execution_count": null,
   "metadata": {},
   "outputs": [],
   "source": [
    "indexer = StringIndexer(inputCol='product_id',\n",
    "                        outputCol='product_id_idx')\n",
    "data_indexed = indexer.fit(data_sub).transform(data_sub)\n",
    "\n",
    "indexer1 = StringIndexer(inputCol='customer_id',\n",
    "                        outputCol='customer_id_idx')\n",
    "data_indexed = indexer1.fit(data_indexed).transform(data_indexed)"
   ]
  },
  {
   "cell_type": "code",
   "execution_count": null,
   "metadata": {},
   "outputs": [],
   "source": [
    "data_indexed.show(5, truncate=True)"
   ]
  },
  {
   "cell_type": "markdown",
   "metadata": {},
   "source": [
    "### Train model"
   ]
  },
  {
   "cell_type": "code",
   "execution_count": null,
   "metadata": {},
   "outputs": [],
   "source": [
    "# Chia dữ liệu train_test\n",
    "# Smaller dataset so we will use 0.8/0.2\n",
    "(training, test)= data_indexed.randomSplit([0.8,0.2])"
   ]
  },
  {
   "cell_type": "code",
   "execution_count": null,
   "metadata": {},
   "outputs": [],
   "source": [
    "# xây dựng model\n",
    "from pyspark.ml.evaluation import RegressionEvaluator\n",
    "from pyspark.ml.recommendation import ALS\n",
    "\n",
    "als = ALS(maxIter=10,\n",
    "          regParam=0.09,\n",
    "          rank=25,\n",
    "          userCol=\"customer_id_idx\",\n",
    "          itemCol=\"product_id_idx\",\n",
    "          ratingCol=\"rating\",\n",
    "          coldStartStrategy=\"drop\",\n",
    "          nonnegative=True)\n",
    "model = als.fit(training)\n",
    "# rank cho to hơn vì phim nhiều và user nhiều"
   ]
  },
  {
   "cell_type": "code",
   "execution_count": null,
   "metadata": {},
   "outputs": [],
   "source": [
    "data_indexed.select(\"rating\").describe().show()"
   ]
  },
  {
   "cell_type": "markdown",
   "metadata": {},
   "source": [
    "### Evaluate model"
   ]
  },
  {
   "cell_type": "code",
   "execution_count": null,
   "metadata": {},
   "outputs": [],
   "source": [
    "predictions = model.transform(test)"
   ]
  },
  {
   "cell_type": "code",
   "execution_count": null,
   "metadata": {},
   "outputs": [],
   "source": [
    "predictions.show(5)"
   ]
  },
  {
   "cell_type": "code",
   "execution_count": null,
   "metadata": {},
   "outputs": [],
   "source": [
    "from pyspark.ml.evaluation import RegressionEvaluator"
   ]
  },
  {
   "cell_type": "code",
   "execution_count": null,
   "metadata": {},
   "outputs": [],
   "source": [
    "evaluator = RegressionEvaluator(metricName='rmse',\n",
    "                                labelCol=\"rating\",\n",
    "                                predictionCol=\"prediction\")\n",
    "rmse = evaluator.evaluate(predictions)\n",
    "print(\"Root-mean square error = \"+ str(rmse))"
   ]
  },
  {
   "cell_type": "markdown",
   "metadata": {},
   "source": [
    "### Tunning parameter"
   ]
  },
  {
   "cell_type": "code",
   "execution_count": null,
   "metadata": {},
   "outputs": [],
   "source": [
    "ALSExplicit = ALS( implicitPrefs=False, userCol=\"customer_id_idx\", itemCol=\"product_id_idx\", ratingCol=\"rating\",\n",
    "          coldStartStrategy=\"drop\")\n",
    "\n",
    "defaultModel = ALSExplicit.fit(training)"
   ]
  },
  {
   "cell_type": "code",
   "execution_count": null,
   "metadata": {},
   "outputs": [],
   "source": [
    "from pyspark.ml.tuning import CrossValidator, ParamGridBuilder, TrainValidationSplit"
   ]
  },
  {
   "cell_type": "code",
   "execution_count": null,
   "metadata": {},
   "outputs": [],
   "source": [
    "paramMapExplicit = ParamGridBuilder() \\\n",
    "                    .addGrid(ALSExplicit.rank, [30, 40,50]) \\\n",
    "                    .addGrid(ALSExplicit.maxIter, [5,10,15,20]) \\\n",
    "                    .addGrid(ALSExplicit.regParam, [0.1,0.01,0.001]) \\\n",
    "                    .addGrid(ALSExplicit.alpha, [2.0,3.0]) \\\n",
    "                    .build()"
   ]
  },
  {
   "cell_type": "code",
   "execution_count": null,
   "metadata": {},
   "outputs": [],
   "source": [
    "evaluatorR = RegressionEvaluator(metricName=\"rmse\", labelCol=\"rating\")"
   ]
  },
  {
   "cell_type": "code",
   "execution_count": null,
   "metadata": {},
   "outputs": [],
   "source": [
    "CVALSExplicit = CrossValidator(estimator=ALSExplicit,\n",
    "                            estimatorParamMaps=paramMapExplicit,\n",
    "                            evaluator=evaluatorR,\n",
    "                           numFolds=5)\n",
    "\n",
    "\n",
    "CVModelEXplicit = CVALSExplicit.fit(training)"
   ]
  },
  {
   "cell_type": "code",
   "execution_count": null,
   "metadata": {},
   "outputs": [],
   "source": [
    "predictions_t = CVModelEXplicit.transform(test)"
   ]
  },
  {
   "cell_type": "code",
   "execution_count": null,
   "metadata": {},
   "outputs": [],
   "source": [
    "rmse_t = evaluator.evaluate(predictions_t)\n",
    "print(\"Root-mean square error = \"+ str(rmse_t))"
   ]
  },
  {
   "cell_type": "code",
   "execution_count": null,
   "metadata": {},
   "outputs": [],
   "source": []
  },
  {
   "cell_type": "code",
   "execution_count": 30,
   "metadata": {},
   "outputs": [],
   "source": [
    "als_t = ALS(maxIter=10,\n",
    "          regParam=0.1,\n",
    "          rank = 30,\n",
    "          userCol=\"customer_id_idx\",\n",
    "          itemCol=\"product_id_idx\",\n",
    "          ratingCol=\"rating\",\n",
    "          coldStartStrategy=\"drop\",\n",
    "          nonnegative=True)\n",
    "model_t = als_t.fit(training)"
   ]
  },
  {
   "cell_type": "code",
   "execution_count": 31,
   "metadata": {},
   "outputs": [],
   "source": [
    "predictions_t = model_t.transform(test)"
   ]
  },
  {
   "cell_type": "code",
   "execution_count": 32,
   "metadata": {},
   "outputs": [
    {
     "name": "stdout",
     "output_type": "stream",
     "text": [
      "Root-mean square error = 1.5686073972761045\n"
     ]
    }
   ],
   "source": [
    "rmse_t = evaluator.evaluate(predictions_t)\n",
    "print(\"Root-mean square error = \"+ str(rmse_t))"
   ]
  },
  {
   "cell_type": "markdown",
   "metadata": {},
   "source": [
    "Nhận xét: Tốt hơn vì rmse nhỏ hơn nên sẽ sử dụng model này"
   ]
  },
  {
   "cell_type": "markdown",
   "metadata": {},
   "source": [
    "### Make recommendations to all users"
   ]
  },
  {
   "cell_type": "code",
   "execution_count": 33,
   "metadata": {},
   "outputs": [],
   "source": [
    "# Get 5 recommendations which have highest rating\n",
    "user_recs = model_t.recommendForAllUsers(5)"
   ]
  },
  {
   "cell_type": "code",
   "execution_count": 34,
   "metadata": {},
   "outputs": [
    {
     "name": "stdout",
     "output_type": "stream",
     "text": [
      "+---------------+-----------------------------------------------------------------------------------------------+\n",
      "|customer_id_idx|recommendations                                                                                |\n",
      "+---------------+-----------------------------------------------------------------------------------------------+\n",
      "|148            |[{2620, 7.9994826}, {3315, 7.9726677}, {3519, 7.7538385}, {3691, 7.7381005}, {2794, 7.6134644}]|\n",
      "|463            |[{3519, 7.3069124}, {2815, 7.2635875}, {2620, 7.053291}, {3237, 7.0232787}, {3814, 7.020816}]  |\n",
      "|471            |[{3315, 6.713652}, {3571, 6.674263}, {2702, 6.5250473}, {3755, 6.468761}, {3125, 6.464198}]    |\n",
      "|496            |[{2620, 8.170576}, {3315, 8.141822}, {3125, 8.076595}, {3755, 7.953744}, {3691, 7.834151}]     |\n",
      "|833            |[{3247, 7.4129047}, {2929, 7.2292795}, {2493, 7.2191615}, {3836, 7.2082977}, {2620, 7.096886}] |\n",
      "|1088           |[{3315, 7.5833273}, {2620, 7.395566}, {2730, 7.2758083}, {3755, 7.2320776}, {3235, 7.1869597}] |\n",
      "|1238           |[{3825, 6.9707575}, {2654, 6.568686}, {3713, 6.5451565}, {3323, 6.5351825}, {3230, 6.503948}]  |\n",
      "|1342           |[{3519, 7.2486153}, {3288, 7.2429576}, {3315, 7.241529}, {3576, 7.229384}, {2876, 7.029006}]   |\n",
      "|1580           |[{3571, 6.789972}, {3755, 6.66144}, {3237, 6.6017017}, {2620, 6.600778}, {3110, 6.590633}]     |\n",
      "|1591           |[{2620, 7.6906295}, {3323, 7.66131}, {3315, 7.5815387}, {2794, 7.512296}, {2323, 7.344103}]    |\n",
      "+---------------+-----------------------------------------------------------------------------------------------+\n",
      "only showing top 10 rows\n",
      "\n"
     ]
    }
   ],
   "source": [
    "user_recs.show(10,truncate=False)"
   ]
  },
  {
   "cell_type": "code",
   "execution_count": 35,
   "metadata": {},
   "outputs": [
    {
     "name": "stdout",
     "output_type": "stream",
     "text": [
      "root\n",
      " |-- customer_id_idx: integer (nullable = false)\n",
      " |-- recommendations: array (nullable = true)\n",
      " |    |-- element: struct (containsNull = true)\n",
      " |    |    |-- product_id_idx: integer (nullable = true)\n",
      " |    |    |-- rating: float (nullable = true)\n",
      "\n"
     ]
    }
   ],
   "source": [
    "user_recs.printSchema()"
   ]
  },
  {
   "cell_type": "code",
   "execution_count": 36,
   "metadata": {},
   "outputs": [
    {
     "name": "stdout",
     "output_type": "stream",
     "text": [
      "Row(customer_id_idx=148, recommendations=[Row(product_id_idx=2620, rating=7.99948263168335), Row(product_id_idx=3315, rating=7.972667694091797), Row(product_id_idx=3519, rating=7.753838539123535), Row(product_id_idx=3691, rating=7.738100528717041), Row(product_id_idx=2794, rating=7.61346435546875)])\n",
      "\n",
      "\n",
      "Row(customer_id_idx=463, recommendations=[Row(product_id_idx=3519, rating=7.306912422180176), Row(product_id_idx=2815, rating=7.263587474822998), Row(product_id_idx=2620, rating=7.053290843963623), Row(product_id_idx=3237, rating=7.023278713226318), Row(product_id_idx=3814, rating=7.020815849304199)])\n",
      "\n",
      "\n",
      "Row(customer_id_idx=471, recommendations=[Row(product_id_idx=3315, rating=6.71365213394165), Row(product_id_idx=3571, rating=6.674263000488281), Row(product_id_idx=2702, rating=6.525047302246094), Row(product_id_idx=3755, rating=6.468760967254639), Row(product_id_idx=3125, rating=6.464198112487793)])\n",
      "\n",
      "\n"
     ]
    }
   ],
   "source": [
    "for user in user_recs.head(3):\n",
    "    print(user)\n",
    "    print(\"\\n\")"
   ]
  },
  {
   "cell_type": "markdown",
   "metadata": {},
   "source": [
    "### Save to file"
   ]
  },
  {
   "cell_type": "code",
   "execution_count": 37,
   "metadata": {},
   "outputs": [],
   "source": [
    "from time import time"
   ]
  },
  {
   "cell_type": "code",
   "execution_count": 38,
   "metadata": {},
   "outputs": [],
   "source": [
    "t0 = time()"
   ]
  },
  {
   "cell_type": "code",
   "execution_count": 39,
   "metadata": {},
   "outputs": [],
   "source": [
    "df_reviewer_reviewer_id = data_indexed.select('customer_id_idx', 'customer_id').distinct()"
   ]
  },
  {
   "cell_type": "code",
   "execution_count": 40,
   "metadata": {},
   "outputs": [
    {
     "data": {
      "text/plain": [
       "251125"
      ]
     },
     "execution_count": 40,
     "metadata": {},
     "output_type": "execute_result"
    }
   ],
   "source": [
    "df_reviewer_reviewer_id.count()"
   ]
  },
  {
   "cell_type": "code",
   "execution_count": 41,
   "metadata": {},
   "outputs": [
    {
     "name": "stdout",
     "output_type": "stream",
     "text": [
      "+---------------+-----------+\n",
      "|customer_id_idx|customer_id|\n",
      "+---------------+-----------+\n",
      "|        36902.0|   16822674|\n",
      "|       213936.0|    6885375|\n",
      "|        88043.0|   12483858|\n",
      "|        12474.0|   11690857|\n",
      "|        21554.0|    7859125|\n",
      "+---------------+-----------+\n",
      "only showing top 5 rows\n",
      "\n"
     ]
    }
   ],
   "source": [
    "df_reviewer_reviewer_id.show(5)"
   ]
  },
  {
   "cell_type": "code",
   "execution_count": 42,
   "metadata": {},
   "outputs": [],
   "source": [
    "df_asin_asin_id = data_indexed.select('product_id_idx', 'product_id').distinct()"
   ]
  },
  {
   "cell_type": "code",
   "execution_count": 43,
   "metadata": {},
   "outputs": [
    {
     "data": {
      "text/plain": [
       "4214"
      ]
     },
     "execution_count": 43,
     "metadata": {},
     "output_type": "execute_result"
    }
   ],
   "source": [
    "df_asin_asin_id.count()"
   ]
  },
  {
   "cell_type": "code",
   "execution_count": 44,
   "metadata": {},
   "outputs": [
    {
     "name": "stdout",
     "output_type": "stream",
     "text": [
      "+--------------+----------+\n",
      "|product_id_idx|product_id|\n",
      "+--------------+----------+\n",
      "|        1600.0|  11251743|\n",
      "|        2463.0|  13678777|\n",
      "|         785.0|  14934073|\n",
      "|        1885.0|  20393324|\n",
      "|        2893.0|  25693431|\n",
      "+--------------+----------+\n",
      "only showing top 5 rows\n",
      "\n"
     ]
    }
   ],
   "source": [
    "df_asin_asin_id.show(5)"
   ]
  },
  {
   "cell_type": "code",
   "execution_count": 45,
   "metadata": {},
   "outputs": [],
   "source": [
    "new_user_recs = user_recs.join(df_reviewer_reviewer_id, on=['customer_id_idx'], how=\"left\")"
   ]
  },
  {
   "cell_type": "code",
   "execution_count": 46,
   "metadata": {},
   "outputs": [
    {
     "name": "stdout",
     "output_type": "stream",
     "text": [
      "+---------------+-----------------------------------------------------------------------------------------------+-----------+\n",
      "|customer_id_idx|recommendations                                                                                |customer_id|\n",
      "+---------------+-----------------------------------------------------------------------------------------------+-----------+\n",
      "|148            |[{2620, 7.9994826}, {3315, 7.9726677}, {3519, 7.7538385}, {3691, 7.7381005}, {2794, 7.6134644}]|6206297    |\n",
      "|463            |[{3519, 7.3069124}, {2815, 7.2635875}, {2620, 7.053291}, {3237, 7.0232787}, {3814, 7.020816}]  |5640291    |\n",
      "|471            |[{3315, 6.713652}, {3571, 6.674263}, {2702, 6.5250473}, {3755, 6.468761}, {3125, 6.464198}]    |6189621    |\n",
      "|496            |[{2620, 8.170576}, {3315, 8.141822}, {3125, 8.076595}, {3755, 7.953744}, {3691, 7.834151}]     |79470      |\n",
      "|833            |[{3247, 7.4129047}, {2929, 7.2292795}, {2493, 7.2191615}, {3836, 7.2082977}, {2620, 7.096886}] |321278     |\n",
      "|1088           |[{3315, 7.5833273}, {2620, 7.395566}, {2730, 7.2758083}, {3755, 7.2320776}, {3235, 7.1869597}] |15098689   |\n",
      "|1238           |[{3825, 6.9707575}, {2654, 6.568686}, {3713, 6.5451565}, {3323, 6.5351825}, {3230, 6.503948}]  |5917275    |\n",
      "|1342           |[{3519, 7.2486153}, {3288, 7.2429576}, {3315, 7.241529}, {3576, 7.229384}, {2876, 7.029006}]   |791870     |\n",
      "|1580           |[{3571, 6.789972}, {3755, 6.66144}, {3237, 6.6017017}, {2620, 6.600778}, {3110, 6.590633}]     |14468154   |\n",
      "|1591           |[{2620, 7.6906295}, {3323, 7.66131}, {3315, 7.5815387}, {2794, 7.512296}, {2323, 7.344103}]    |14877474   |\n",
      "+---------------+-----------------------------------------------------------------------------------------------+-----------+\n",
      "only showing top 10 rows\n",
      "\n"
     ]
    }
   ],
   "source": [
    "new_user_recs.show(10, truncate=False)"
   ]
  },
  {
   "cell_type": "code",
   "execution_count": 47,
   "metadata": {},
   "outputs": [
    {
     "data": {
      "text/plain": [
       "211461"
      ]
     },
     "execution_count": 47,
     "metadata": {},
     "output_type": "execute_result"
    }
   ],
   "source": [
    "new_user_recs.count()"
   ]
  },
  {
   "cell_type": "markdown",
   "metadata": {},
   "source": [
    "### Save to disk"
   ]
  },
  {
   "cell_type": "code",
   "execution_count": 80,
   "metadata": {},
   "outputs": [],
   "source": [
    "new_user_recs.write.parquet('Recommendation_U.parquet', mode='overwrite')\n",
    "df_asin_asin_id.write.parquet('Recommendation_P.parquet', mode='overwrite')"
   ]
  },
  {
   "cell_type": "code",
   "execution_count": 81,
   "metadata": {},
   "outputs": [
    {
     "name": "stdout",
     "output_type": "stream",
     "text": [
      "1646196568.558788\n"
     ]
    }
   ],
   "source": [
    "time_duration = time() - 10\n",
    "print(time_duration)"
   ]
  },
  {
   "cell_type": "markdown",
   "metadata": {},
   "source": [
    "### Make recommendations to a particular user"
   ]
  },
  {
   "cell_type": "code",
   "execution_count": 48,
   "metadata": {},
   "outputs": [],
   "source": [
    "customer_id = \"5917275\"\n",
    "find_user_rec = new_user_recs.filter(new_user_recs['customer_id'] == customer_id)\n",
    "user = find_user_rec.first()\n",
    "\n",
    "lst=[]\n",
    "for row in user['recommendations']:\n",
    "    row_f = df_asin_asin_id.filter(df_asin_asin_id.product_id_idx == row['product_id_idx'])\n",
    "    row_f_first = row_f.first()\n",
    "    lst.append((row['product_id_idx'], row_f_first['product_id'], row['rating']))\n",
    "dic_user_rec = {'customer_id' : user.customer_id, 'recommendations':lst}"
   ]
  },
  {
   "cell_type": "code",
   "execution_count": 49,
   "metadata": {},
   "outputs": [
    {
     "data": {
      "text/plain": [
       "{'customer_id': 5917275,\n",
       " 'recommendations': [(3825, 29248443, 6.970757484436035),\n",
       "  (2654, 21317020, 6.568686008453369),\n",
       "  (3713, 41556669, 6.545156478881836),\n",
       "  (3323, 74274442, 6.535182476043701),\n",
       "  (3230, 931458, 6.503948211669922)]}"
      ]
     },
     "execution_count": 49,
     "metadata": {},
     "output_type": "execute_result"
    }
   ],
   "source": [
    "dic_user_rec"
   ]
  },
  {
   "cell_type": "markdown",
   "metadata": {},
   "source": [
    "### Đọc 2 file đã lưu để lấy dữ liệu đầu vào => Đề xuất"
   ]
  },
  {
   "cell_type": "code",
   "execution_count": 50,
   "metadata": {},
   "outputs": [],
   "source": [
    "new_user_recs = spark.read.parquet('Recommendation_U.parquet')"
   ]
  },
  {
   "cell_type": "code",
   "execution_count": 51,
   "metadata": {},
   "outputs": [
    {
     "name": "stdout",
     "output_type": "stream",
     "text": [
      "root\n",
      " |-- customer_id_idx: integer (nullable = true)\n",
      " |-- recommendations: array (nullable = true)\n",
      " |    |-- element: struct (containsNull = true)\n",
      " |    |    |-- product_id_idx: integer (nullable = true)\n",
      " |    |    |-- rating: float (nullable = true)\n",
      " |-- customer_id: integer (nullable = true)\n",
      "\n"
     ]
    }
   ],
   "source": [
    "new_user_recs.printSchema()"
   ]
  },
  {
   "cell_type": "code",
   "execution_count": 52,
   "metadata": {},
   "outputs": [
    {
     "name": "stdout",
     "output_type": "stream",
     "text": [
      "+---------------+--------------------+-----------+\n",
      "|customer_id_idx|     recommendations|customer_id|\n",
      "+---------------+--------------------+-----------+\n",
      "|            168|[{2135, 8.469116}...|     113348|\n",
      "|            205|[{3854, 7.032599}...|     673210|\n",
      "+---------------+--------------------+-----------+\n",
      "only showing top 2 rows\n",
      "\n"
     ]
    }
   ],
   "source": [
    "new_user_recs.show(2)"
   ]
  },
  {
   "cell_type": "code",
   "execution_count": 53,
   "metadata": {},
   "outputs": [],
   "source": [
    "df_asin_asin_id = spark.read.parquet('Recommendation_P.parquet')"
   ]
  },
  {
   "cell_type": "code",
   "execution_count": 54,
   "metadata": {},
   "outputs": [
    {
     "name": "stdout",
     "output_type": "stream",
     "text": [
      "+--------------+----------+\n",
      "|product_id_idx|product_id|\n",
      "+--------------+----------+\n",
      "|         537.0|  14089823|\n",
      "|        1028.0|  14313154|\n",
      "+--------------+----------+\n",
      "only showing top 2 rows\n",
      "\n"
     ]
    }
   ],
   "source": [
    "df_asin_asin_id.show(2)"
   ]
  },
  {
   "cell_type": "code",
   "execution_count": 57,
   "metadata": {},
   "outputs": [
    {
     "name": "stdout",
     "output_type": "stream",
     "text": [
      "+---------------+---------------------------------------------------------------------------------------------+-----------+\n",
      "|customer_id_idx|recommendations                                                                              |customer_id|\n",
      "+---------------+---------------------------------------------------------------------------------------------+-----------+\n",
      "|1238           |[{2929, 6.8932276}, {4014, 6.579216}, {3592, 6.5225677}, {3125, 6.416591}, {3281, 6.3698936}]|5917275    |\n",
      "+---------------+---------------------------------------------------------------------------------------------+-----------+\n",
      "\n"
     ]
    }
   ],
   "source": [
    "customer_id = \"5917275\"\n",
    "find_user_rec = new_user_recs.filter(new_user_recs['customer_id'] == customer_id)\n",
    "find_user_rec.show(truncate=False)"
   ]
  },
  {
   "cell_type": "code",
   "execution_count": 59,
   "metadata": {},
   "outputs": [
    {
     "name": "stdout",
     "output_type": "stream",
     "text": [
      "Row(product_id_idx=2929, rating=6.893227577209473)\n",
      "Row(product_id_idx=4014, rating=6.579216003417969)\n",
      "Row(product_id_idx=3592, rating=6.5225677490234375)\n",
      "Row(product_id_idx=3125, rating=6.416591167449951)\n",
      "Row(product_id_idx=3281, rating=6.369893550872803)\n"
     ]
    }
   ],
   "source": [
    "result = ''\n",
    "for user in find_user_rec.collect():\n",
    "    lst=[]\n",
    "    for row in user['recommendations']:\n",
    "        print(row)\n",
    "        row_f = df_asin_asin_id.filter(df_asin_asin_id.product_id_idx == row['product_id_idx'])\n",
    "        row_f_first = row_f.first()\n",
    "        lst.append((row['product_id_idx'], row_f_first['product_id'], row['rating']))\n",
    "    dic_user_rec = {'customer_id' : user.customer_id, 'recommendations':lst}\n",
    "    result = dic_user_rec"
   ]
  },
  {
   "cell_type": "code",
   "execution_count": null,
   "metadata": {},
   "outputs": [],
   "source": []
  }
 ],
 "metadata": {
  "colab": {
   "collapsed_sections": [],
   "name": "demo_Recommender_Students.ipynb",
   "provenance": []
  },
  "kernelspec": {
   "display_name": "Python 3",
   "language": "python",
   "name": "python3"
  },
  "language_info": {
   "codemirror_mode": {
    "name": "ipython",
    "version": 3
   },
   "file_extension": ".py",
   "mimetype": "text/x-python",
   "name": "python",
   "nbconvert_exporter": "python",
   "pygments_lexer": "ipython3",
   "version": "3.8.5"
  }
 },
 "nbformat": 4,
 "nbformat_minor": 1
}
